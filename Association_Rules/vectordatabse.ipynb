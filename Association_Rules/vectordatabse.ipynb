{
 "cells": [
  {
   "cell_type": "code",
   "execution_count": 1,
   "metadata": {},
   "outputs": [
    {
     "name": "stderr",
     "output_type": "stream",
     "text": [
      "c:\\Users\\LAKSHAN\\AppData\\Local\\Programs\\Python\\Python310\\lib\\site-packages\\pinecone\\data\\index.py:1: TqdmWarning: IProgress not found. Please update jupyter and ipywidgets. See https://ipywidgets.readthedocs.io/en/stable/user_install.html\n",
      "  from tqdm.autonotebook import tqdm\n"
     ]
    }
   ],
   "source": [
    "from pinecone import Pinecone, ServerlessSpec\n",
    "import os\n",
    "import pandas as pd\n",
    "import dotenv\n",
    "\n"
   ]
  },
  {
   "cell_type": "code",
   "execution_count": 2,
   "metadata": {},
   "outputs": [
    {
     "data": {
      "text/plain": [
       "True"
      ]
     },
     "execution_count": 2,
     "metadata": {},
     "output_type": "execute_result"
    }
   ],
   "source": [
    "dotenv.load_dotenv()"
   ]
  },
  {
   "cell_type": "code",
   "execution_count": 3,
   "metadata": {},
   "outputs": [],
   "source": [
    "Pinecone_api_key=os.getenv(\"PINECONE_API\")\n",
    "PINECONE_INDEX=os.getenv(\"coffee_shop\")"
   ]
  },
  {
   "cell_type": "code",
   "execution_count": 4,
   "metadata": {},
   "outputs": [
    {
     "data": {
      "text/plain": [
       "'pcsk_BAJZr_Cdb2QGVpBpVhYzEHXbYW76wnP8AWYLYG3xcxmpunN55hqs2bTcs2DazrfCZBsSr'"
      ]
     },
     "execution_count": 4,
     "metadata": {},
     "output_type": "execute_result"
    }
   ],
   "source": [
    "Pinecone_api_key"
   ]
  },
  {
   "cell_type": "code",
   "execution_count": 5,
   "metadata": {},
   "outputs": [],
   "source": [
    "pc = Pinecone(api_key=Pinecone_api_key)"
   ]
  },
  {
   "cell_type": "code",
   "execution_count": 7,
   "metadata": {},
   "outputs": [],
   "source": [
    "from langchain_community.embeddings import HuggingFaceBgeEmbeddings\n",
    "\n",
    "model_name = \"BAAI/bge-small-en\"\n",
    "model_kwargs = {\"device\": \"cpu\"}\n",
    "encode_kwargs = {\"normalize_embeddings\": True}\n",
    "hf = HuggingFaceBgeEmbeddings(\n",
    "    model_name=model_name, model_kwargs=model_kwargs, encode_kwargs=encode_kwargs\n",
    ")\n"
   ]
  },
  {
   "cell_type": "code",
   "execution_count": 8,
   "metadata": {},
   "outputs": [],
   "source": [
    "def get_embedding(model_name,model_kwargs,encode_kwargs,prompt):\n",
    "    hf = HuggingFaceBgeEmbeddings(\n",
    "    model_name=model_name, model_kwargs=model_kwargs, encode_kwargs=encode_kwargs\n",
    ")\n",
    "    embed=hf.embed_query(prompt)\n",
    "\n",
    "    return embed"
   ]
  },
  {
   "cell_type": "markdown",
   "metadata": {},
   "source": [
    "# Wrangle Datasets\n"
   ]
  },
  {
   "cell_type": "code",
   "execution_count": 9,
   "metadata": {},
   "outputs": [],
   "source": [
    "df=pd.read_json('../products/products.jsonl',lines=True)"
   ]
  },
  {
   "cell_type": "code",
   "execution_count": 10,
   "metadata": {},
   "outputs": [
    {
     "data": {
      "text/html": [
       "<div>\n",
       "<style scoped>\n",
       "    .dataframe tbody tr th:only-of-type {\n",
       "        vertical-align: middle;\n",
       "    }\n",
       "\n",
       "    .dataframe tbody tr th {\n",
       "        vertical-align: top;\n",
       "    }\n",
       "\n",
       "    .dataframe thead th {\n",
       "        text-align: right;\n",
       "    }\n",
       "</style>\n",
       "<table border=\"1\" class=\"dataframe\">\n",
       "  <thead>\n",
       "    <tr style=\"text-align: right;\">\n",
       "      <th></th>\n",
       "      <th>name</th>\n",
       "      <th>category</th>\n",
       "      <th>description</th>\n",
       "      <th>ingredients</th>\n",
       "      <th>price</th>\n",
       "      <th>rating</th>\n",
       "      <th>image_path</th>\n",
       "    </tr>\n",
       "  </thead>\n",
       "  <tbody>\n",
       "    <tr>\n",
       "      <th>0</th>\n",
       "      <td>Cappuccino</td>\n",
       "      <td>Coffee</td>\n",
       "      <td>A rich and creamy cappuccino made with freshly...</td>\n",
       "      <td>[Espresso, Steamed Milk, Milk Foam]</td>\n",
       "      <td>4.50</td>\n",
       "      <td>4.7</td>\n",
       "      <td>cappuccino.jpg</td>\n",
       "    </tr>\n",
       "    <tr>\n",
       "      <th>1</th>\n",
       "      <td>Jumbo Savory Scone</td>\n",
       "      <td>Bakery</td>\n",
       "      <td>Deliciously flaky and buttery, this jumbo savo...</td>\n",
       "      <td>[Flour, Butter, Cheese, Herbs, Baking Powder, ...</td>\n",
       "      <td>3.25</td>\n",
       "      <td>4.3</td>\n",
       "      <td>SavoryScone.webp</td>\n",
       "    </tr>\n",
       "    <tr>\n",
       "      <th>2</th>\n",
       "      <td>Latte</td>\n",
       "      <td>Coffee</td>\n",
       "      <td>Smooth and creamy, our latte combines rich esp...</td>\n",
       "      <td>[Espresso, Steamed Milk, Milk Foam]</td>\n",
       "      <td>4.75</td>\n",
       "      <td>4.8</td>\n",
       "      <td>Latte.jpg</td>\n",
       "    </tr>\n",
       "    <tr>\n",
       "      <th>3</th>\n",
       "      <td>Chocolate Chip Biscotti</td>\n",
       "      <td>Bakery</td>\n",
       "      <td>Crunchy and delightful, this chocolate chip bi...</td>\n",
       "      <td>[Flour, Sugar, Chocolate Chips, Eggs, Almonds,...</td>\n",
       "      <td>2.50</td>\n",
       "      <td>4.6</td>\n",
       "      <td>chocolat_biscotti.jpg</td>\n",
       "    </tr>\n",
       "    <tr>\n",
       "      <th>4</th>\n",
       "      <td>Espresso shot</td>\n",
       "      <td>Coffee</td>\n",
       "      <td>A bold shot of rich espresso, our espresso is ...</td>\n",
       "      <td>[Espresso]</td>\n",
       "      <td>2.00</td>\n",
       "      <td>4.9</td>\n",
       "      <td>Espresso_shot.webp</td>\n",
       "    </tr>\n",
       "    <tr>\n",
       "      <th>5</th>\n",
       "      <td>Hazelnut Biscotti</td>\n",
       "      <td>Bakery</td>\n",
       "      <td>These delicious hazelnut biscotti are perfect ...</td>\n",
       "      <td>[Flour, Sugar, Hazelnuts, Eggs, Baking Powder]</td>\n",
       "      <td>2.75</td>\n",
       "      <td>4.4</td>\n",
       "      <td>Hazelnut_Biscotti.jpg</td>\n",
       "    </tr>\n",
       "    <tr>\n",
       "      <th>6</th>\n",
       "      <td>Chocolate Croissant</td>\n",
       "      <td>Bakery</td>\n",
       "      <td>Flaky and buttery, our chocolate croissant is ...</td>\n",
       "      <td>[Flour, Butter, Chocolate, Yeast, Sugar, Salt]</td>\n",
       "      <td>3.75</td>\n",
       "      <td>4.8</td>\n",
       "      <td>Chocolate_Croissant.jpg</td>\n",
       "    </tr>\n",
       "    <tr>\n",
       "      <th>7</th>\n",
       "      <td>Dark chocolate</td>\n",
       "      <td>Drinking Chocolate</td>\n",
       "      <td>Rich and indulgent, our dark chocolate drinkin...</td>\n",
       "      <td>[Cocoa Powder, Sugar, Milk]</td>\n",
       "      <td>5.00</td>\n",
       "      <td>4.7</td>\n",
       "      <td>Dark_chocolate.jpg</td>\n",
       "    </tr>\n",
       "    <tr>\n",
       "      <th>8</th>\n",
       "      <td>Cranberry Scone</td>\n",
       "      <td>Bakery</td>\n",
       "      <td>This delightful cranberry scone combines sweet...</td>\n",
       "      <td>[Flour, Butter, Cranberries, Sugar, Baking Pow...</td>\n",
       "      <td>3.50</td>\n",
       "      <td>4.5</td>\n",
       "      <td>Cranberry_Scone.jpg</td>\n",
       "    </tr>\n",
       "    <tr>\n",
       "      <th>9</th>\n",
       "      <td>Croissant</td>\n",
       "      <td>Bakery</td>\n",
       "      <td>Our classic croissant is flaky and buttery, of...</td>\n",
       "      <td>[Flour, Butter, Yeast, Sugar, Salt]</td>\n",
       "      <td>3.25</td>\n",
       "      <td>4.7</td>\n",
       "      <td>Croissant.jpg</td>\n",
       "    </tr>\n",
       "    <tr>\n",
       "      <th>10</th>\n",
       "      <td>Almond Croissant</td>\n",
       "      <td>Bakery</td>\n",
       "      <td>A delightful twist on the classic croissant, f...</td>\n",
       "      <td>[Flour, Butter, Almond Cream, Sugar, Almonds, ...</td>\n",
       "      <td>4.00</td>\n",
       "      <td>4.8</td>\n",
       "      <td>almond_croissant.jpg</td>\n",
       "    </tr>\n",
       "    <tr>\n",
       "      <th>11</th>\n",
       "      <td>Ginger Biscotti</td>\n",
       "      <td>Bakery</td>\n",
       "      <td>These spicy ginger biscotti are perfect for di...</td>\n",
       "      <td>[Flour, Sugar, Ginger, Eggs, Baking Powder]</td>\n",
       "      <td>2.50</td>\n",
       "      <td>4.7</td>\n",
       "      <td>Ginger_Biscotti.webp</td>\n",
       "    </tr>\n",
       "    <tr>\n",
       "      <th>12</th>\n",
       "      <td>Oatmeal Scone</td>\n",
       "      <td>Bakery</td>\n",
       "      <td>Nutty and wholesome, our oatmeal scone is a pe...</td>\n",
       "      <td>[Flour, Oats, Butter, Sugar, Baking Powder, Eggs]</td>\n",
       "      <td>3.25</td>\n",
       "      <td>4.3</td>\n",
       "      <td>oatmeal_scones.jpg</td>\n",
       "    </tr>\n",
       "    <tr>\n",
       "      <th>13</th>\n",
       "      <td>Ginger Scone</td>\n",
       "      <td>Bakery</td>\n",
       "      <td>Soft and fragrant, our ginger scone is perfect...</td>\n",
       "      <td>[Flour, Butter, Ginger, Sugar, Baking Powder, ...</td>\n",
       "      <td>3.50</td>\n",
       "      <td>4.5</td>\n",
       "      <td>Ginger_Scone.webp</td>\n",
       "    </tr>\n",
       "    <tr>\n",
       "      <th>14</th>\n",
       "      <td>Chocolate syrup</td>\n",
       "      <td>Flavours</td>\n",
       "      <td>Our rich chocolate syrup is perfect for drizzl...</td>\n",
       "      <td>[Sugar, Cocoa Powder, Water, Vanilla Extract]</td>\n",
       "      <td>1.50</td>\n",
       "      <td>4.8</td>\n",
       "      <td>Chocolate_syrup.jpg</td>\n",
       "    </tr>\n",
       "    <tr>\n",
       "      <th>15</th>\n",
       "      <td>Hazelnut syrup</td>\n",
       "      <td>Flavours</td>\n",
       "      <td>Add a nutty flavor to your drinks with our haz...</td>\n",
       "      <td>[Sugar, Water, Hazelnut Extract, Vanilla Extract]</td>\n",
       "      <td>1.50</td>\n",
       "      <td>4.7</td>\n",
       "      <td>Hazelnut_syrup.webp</td>\n",
       "    </tr>\n",
       "    <tr>\n",
       "      <th>16</th>\n",
       "      <td>Carmel syrup</td>\n",
       "      <td>Flavours</td>\n",
       "      <td>Sweet and creamy, our caramel syrup is ideal f...</td>\n",
       "      <td>[Sugar, Water, Cream, Butter, Vanilla Extract]</td>\n",
       "      <td>1.50</td>\n",
       "      <td>4.9</td>\n",
       "      <td>caramel_syrup.jpg</td>\n",
       "    </tr>\n",
       "    <tr>\n",
       "      <th>17</th>\n",
       "      <td>Sugar Free Vanilla syrup</td>\n",
       "      <td>Flavours</td>\n",
       "      <td>Enjoy the sweet flavor of vanilla without the ...</td>\n",
       "      <td>[Water, Natural Flavors, Sucralose]</td>\n",
       "      <td>1.50</td>\n",
       "      <td>4.4</td>\n",
       "      <td>Vanilla_syrup.jpg</td>\n",
       "    </tr>\n",
       "  </tbody>\n",
       "</table>\n",
       "</div>"
      ],
      "text/plain": [
       "                        name            category  \\\n",
       "0                 Cappuccino              Coffee   \n",
       "1         Jumbo Savory Scone              Bakery   \n",
       "2                      Latte              Coffee   \n",
       "3    Chocolate Chip Biscotti              Bakery   \n",
       "4              Espresso shot              Coffee   \n",
       "5          Hazelnut Biscotti              Bakery   \n",
       "6        Chocolate Croissant              Bakery   \n",
       "7             Dark chocolate  Drinking Chocolate   \n",
       "8            Cranberry Scone              Bakery   \n",
       "9                  Croissant              Bakery   \n",
       "10          Almond Croissant              Bakery   \n",
       "11           Ginger Biscotti              Bakery   \n",
       "12             Oatmeal Scone              Bakery   \n",
       "13              Ginger Scone              Bakery   \n",
       "14           Chocolate syrup            Flavours   \n",
       "15            Hazelnut syrup            Flavours   \n",
       "16              Carmel syrup            Flavours   \n",
       "17  Sugar Free Vanilla syrup            Flavours   \n",
       "\n",
       "                                          description  \\\n",
       "0   A rich and creamy cappuccino made with freshly...   \n",
       "1   Deliciously flaky and buttery, this jumbo savo...   \n",
       "2   Smooth and creamy, our latte combines rich esp...   \n",
       "3   Crunchy and delightful, this chocolate chip bi...   \n",
       "4   A bold shot of rich espresso, our espresso is ...   \n",
       "5   These delicious hazelnut biscotti are perfect ...   \n",
       "6   Flaky and buttery, our chocolate croissant is ...   \n",
       "7   Rich and indulgent, our dark chocolate drinkin...   \n",
       "8   This delightful cranberry scone combines sweet...   \n",
       "9   Our classic croissant is flaky and buttery, of...   \n",
       "10  A delightful twist on the classic croissant, f...   \n",
       "11  These spicy ginger biscotti are perfect for di...   \n",
       "12  Nutty and wholesome, our oatmeal scone is a pe...   \n",
       "13  Soft and fragrant, our ginger scone is perfect...   \n",
       "14  Our rich chocolate syrup is perfect for drizzl...   \n",
       "15  Add a nutty flavor to your drinks with our haz...   \n",
       "16  Sweet and creamy, our caramel syrup is ideal f...   \n",
       "17  Enjoy the sweet flavor of vanilla without the ...   \n",
       "\n",
       "                                          ingredients  price  rating  \\\n",
       "0                 [Espresso, Steamed Milk, Milk Foam]   4.50     4.7   \n",
       "1   [Flour, Butter, Cheese, Herbs, Baking Powder, ...   3.25     4.3   \n",
       "2                 [Espresso, Steamed Milk, Milk Foam]   4.75     4.8   \n",
       "3   [Flour, Sugar, Chocolate Chips, Eggs, Almonds,...   2.50     4.6   \n",
       "4                                          [Espresso]   2.00     4.9   \n",
       "5      [Flour, Sugar, Hazelnuts, Eggs, Baking Powder]   2.75     4.4   \n",
       "6      [Flour, Butter, Chocolate, Yeast, Sugar, Salt]   3.75     4.8   \n",
       "7                         [Cocoa Powder, Sugar, Milk]   5.00     4.7   \n",
       "8   [Flour, Butter, Cranberries, Sugar, Baking Pow...   3.50     4.5   \n",
       "9                 [Flour, Butter, Yeast, Sugar, Salt]   3.25     4.7   \n",
       "10  [Flour, Butter, Almond Cream, Sugar, Almonds, ...   4.00     4.8   \n",
       "11        [Flour, Sugar, Ginger, Eggs, Baking Powder]   2.50     4.7   \n",
       "12  [Flour, Oats, Butter, Sugar, Baking Powder, Eggs]   3.25     4.3   \n",
       "13  [Flour, Butter, Ginger, Sugar, Baking Powder, ...   3.50     4.5   \n",
       "14      [Sugar, Cocoa Powder, Water, Vanilla Extract]   1.50     4.8   \n",
       "15  [Sugar, Water, Hazelnut Extract, Vanilla Extract]   1.50     4.7   \n",
       "16     [Sugar, Water, Cream, Butter, Vanilla Extract]   1.50     4.9   \n",
       "17                [Water, Natural Flavors, Sucralose]   1.50     4.4   \n",
       "\n",
       "                 image_path  \n",
       "0            cappuccino.jpg  \n",
       "1          SavoryScone.webp  \n",
       "2                 Latte.jpg  \n",
       "3     chocolat_biscotti.jpg  \n",
       "4        Espresso_shot.webp  \n",
       "5     Hazelnut_Biscotti.jpg  \n",
       "6   Chocolate_Croissant.jpg  \n",
       "7        Dark_chocolate.jpg  \n",
       "8       Cranberry_Scone.jpg  \n",
       "9             Croissant.jpg  \n",
       "10     almond_croissant.jpg  \n",
       "11     Ginger_Biscotti.webp  \n",
       "12       oatmeal_scones.jpg  \n",
       "13        Ginger_Scone.webp  \n",
       "14      Chocolate_syrup.jpg  \n",
       "15      Hazelnut_syrup.webp  \n",
       "16        caramel_syrup.jpg  \n",
       "17        Vanilla_syrup.jpg  "
      ]
     },
     "execution_count": 10,
     "metadata": {},
     "output_type": "execute_result"
    }
   ],
   "source": [
    "df"
   ]
  },
  {
   "cell_type": "code",
   "execution_count": 11,
   "metadata": {},
   "outputs": [],
   "source": [
    "df['text'] =  df['name']+\" : \"+df['description'] + \\\n",
    "                \" -- Ingredients: \" + df['ingredients'].astype(str) + \\\n",
    "                \" -- Price: \" + df['price'].astype(str) + \\\n",
    "                \" -- rating: \" + df['rating'].astype(str) "
   ]
  },
  {
   "cell_type": "code",
   "execution_count": 12,
   "metadata": {},
   "outputs": [
    {
     "data": {
      "text/plain": [
       "0    Cappuccino : A rich and creamy cappuccino made...\n",
       "1    Jumbo Savory Scone : Deliciously flaky and but...\n",
       "2    Latte : Smooth and creamy, our latte combines ...\n",
       "3    Chocolate Chip Biscotti : Crunchy and delightf...\n",
       "4    Espresso shot : A bold shot of rich espresso, ...\n",
       "Name: text, dtype: object"
      ]
     },
     "execution_count": 12,
     "metadata": {},
     "output_type": "execute_result"
    }
   ],
   "source": [
    "df['text'].head(5)"
   ]
  },
  {
   "cell_type": "code",
   "execution_count": 13,
   "metadata": {},
   "outputs": [],
   "source": [
    "texts=df['text'].tolist()"
   ]
  },
  {
   "cell_type": "code",
   "execution_count": 14,
   "metadata": {},
   "outputs": [
    {
     "data": {
      "text/plain": [
       "\"Cappuccino : A rich and creamy cappuccino made with freshly brewed espresso, steamed milk, and a frothy milk cap. This delightful drink offers a perfect balance of bold coffee flavor and smooth milk, making it an ideal companion for relaxing mornings or lively conversations. -- Ingredients: ['Espresso', 'Steamed Milk', 'Milk Foam'] -- Price: 4.5 -- rating: 4.7\""
      ]
     },
     "execution_count": 14,
     "metadata": {},
     "output_type": "execute_result"
    }
   ],
   "source": [
    "texts[0]\n"
   ]
  },
  {
   "cell_type": "code",
   "execution_count": 15,
   "metadata": {},
   "outputs": [],
   "source": [
    "with open(\"../products/Merry's_way_about_us.txt\") as f:\n",
    "    merry_way=f.read()\n",
    "\n",
    "merry=\"Coffe shop about: \"+merry_way"
   ]
  },
  {
   "cell_type": "code",
   "execution_count": 16,
   "metadata": {},
   "outputs": [],
   "source": [
    "with open(\"../products/menu_items_text.txt\") as f:\n",
    "    menu=f.read()\n",
    "\n",
    "menu=\"menu: \"+menu"
   ]
  },
  {
   "cell_type": "code",
   "execution_count": 17,
   "metadata": {},
   "outputs": [],
   "source": [
    "texts.append(merry)"
   ]
  },
  {
   "cell_type": "code",
   "execution_count": 18,
   "metadata": {},
   "outputs": [
    {
     "ename": "ValueError",
     "evalue": "list.remove(x): x not in list",
     "output_type": "error",
     "traceback": [
      "\u001b[1;31m---------------------------------------------------------------------------\u001b[0m",
      "\u001b[1;31mValueError\u001b[0m                                Traceback (most recent call last)",
      "Cell \u001b[1;32mIn[18], line 1\u001b[0m\n\u001b[1;32m----> 1\u001b[0m \u001b[43mtexts\u001b[49m\u001b[38;5;241;43m.\u001b[39;49m\u001b[43mremove\u001b[49m\u001b[43m(\u001b[49m\u001b[43mmenu\u001b[49m\u001b[43m)\u001b[49m\n",
      "\u001b[1;31mValueError\u001b[0m: list.remove(x): x not in list"
     ]
    }
   ],
   "source": [
    "texts.remove(menu)\n"
   ]
  },
  {
   "cell_type": "code",
   "execution_count": 21,
   "metadata": {},
   "outputs": [
    {
     "data": {
      "text/plain": [
       "[\"Cappuccino : A rich and creamy cappuccino made with freshly brewed espresso, steamed milk, and a frothy milk cap. This delightful drink offers a perfect balance of bold coffee flavor and smooth milk, making it an ideal companion for relaxing mornings or lively conversations. -- Ingredients: ['Espresso', 'Steamed Milk', 'Milk Foam'] -- Price: 4.5 -- rating: 4.7\",\n",
       " \"Jumbo Savory Scone : Deliciously flaky and buttery, this jumbo savory scone is filled with herbs and cheese, creating a mouthwatering experience. Perfect for a hearty snack or a light lunch, it pairs beautifully with your favorite coffee or tea. -- Ingredients: ['Flour', 'Butter', 'Cheese', 'Herbs', 'Baking Powder', 'Salt'] -- Price: 3.25 -- rating: 4.3\",\n",
       " \"Latte : Smooth and creamy, our latte combines rich espresso with velvety steamed milk, creating a perfect balance of flavor and texture. Enjoy it as a comforting treat any time of day, whether you're starting your morning or taking a midday break. -- Ingredients: ['Espresso', 'Steamed Milk', 'Milk Foam'] -- Price: 4.75 -- rating: 4.8\",\n",
       " \"Chocolate Chip Biscotti : Crunchy and delightful, this chocolate chip biscotti is perfect for dipping in your coffee or enjoying on its own. Each bite offers a satisfying crunch and a burst of rich chocolate, making it a favorite for any biscotti lover. -- Ingredients: ['Flour', 'Sugar', 'Chocolate Chips', 'Eggs', 'Almonds', 'Baking Powder'] -- Price: 2.5 -- rating: 4.6\",\n",
       " \"Espresso shot : A bold shot of rich espresso, our espresso is crafted from the finest beans to deliver a robust flavor in every sip. Perfect for a quick pick-me-up, it can also serve as a base for your favorite coffee drinks. -- Ingredients: ['Espresso'] -- Price: 2.0 -- rating: 4.9\",\n",
       " \"Hazelnut Biscotti : These delicious hazelnut biscotti are perfect for a crunchy treat alongside your coffee. Infused with roasted hazelnuts, they provide a delightful nutty flavor that enhances your coffee experience. -- Ingredients: ['Flour', 'Sugar', 'Hazelnuts', 'Eggs', 'Baking Powder'] -- Price: 2.75 -- rating: 4.4\",\n",
       " \"Chocolate Croissant : Flaky and buttery, our chocolate croissant is filled with rich chocolate, making it a delightful pastry for any time. Perfect for breakfast or an afternoon snack, it's a sweet indulgence that never disappoints. -- Ingredients: ['Flour', 'Butter', 'Chocolate', 'Yeast', 'Sugar', 'Salt'] -- Price: 3.75 -- rating: 4.8\",\n",
       " \"Dark chocolate : Rich and indulgent, our dark chocolate drinking chocolate is made with premium cocoa. This luxurious beverage is perfect for a cozy treat on a chilly day, bringing warmth and comfort with every sip. -- Ingredients: ['Cocoa Powder', 'Sugar', 'Milk'] -- Price: 5.0 -- rating: 4.7\",\n",
       " \"Cranberry Scone : This delightful cranberry scone combines sweet and tart flavors, making it perfect for a breakfast treat or afternoon snack. Soft and crumbly, it pairs wonderfully with tea or coffee for a comforting experience. -- Ingredients: ['Flour', 'Butter', 'Cranberries', 'Sugar', 'Baking Powder', 'Eggs'] -- Price: 3.5 -- rating: 4.5\",\n",
       " \"Croissant : Our classic croissant is flaky and buttery, offering a delightful crunch with each bite. Whether enjoyed alone or filled with your favorite spread, it's a timeless pastry that elevates any meal. -- Ingredients: ['Flour', 'Butter', 'Yeast', 'Sugar', 'Salt'] -- Price: 3.25 -- rating: 4.7\",\n",
       " \"Almond Croissant : A delightful twist on the classic croissant, filled with almond cream and topped with slivered almonds for added crunch. This indulgent treat is perfect for those who love a sweet and nutty flavor combination. -- Ingredients: ['Flour', 'Butter', 'Almond Cream', 'Sugar', 'Almonds', 'Yeast'] -- Price: 4.0 -- rating: 4.8\",\n",
       " \"Ginger Biscotti : These spicy ginger biscotti are perfect for dipping and provide a delightful crunch with every bite. The warm flavor of ginger adds a unique twist that pairs beautifully with your favorite hot beverage. -- Ingredients: ['Flour', 'Sugar', 'Ginger', 'Eggs', 'Baking Powder'] -- Price: 2.5 -- rating: 4.7\",\n",
       " \"Oatmeal Scone : Nutty and wholesome, our oatmeal scone is a perfect snack for any time. Made with rolled oats and a hint of sweetness, it's a satisfying option for those who enjoy hearty baked goods. -- Ingredients: ['Flour', 'Oats', 'Butter', 'Sugar', 'Baking Powder', 'Eggs'] -- Price: 3.25 -- rating: 4.3\",\n",
       " \"Ginger Scone : Soft and fragrant, our ginger scone is perfect for a morning treat, infused with the warm spice of ginger. It's an inviting option that pairs beautifully with a cup of tea or coffee. -- Ingredients: ['Flour', 'Butter', 'Ginger', 'Sugar', 'Baking Powder', 'Eggs'] -- Price: 3.5 -- rating: 4.5\",\n",
       " \"Chocolate syrup : Our rich chocolate syrup is perfect for drizzling over desserts or adding to your favorite beverages. Its velvety texture and intense chocolate flavor make it an essential topping for any sweet creation. -- Ingredients: ['Sugar', 'Cocoa Powder', 'Water', 'Vanilla Extract'] -- Price: 1.5 -- rating: 4.8\",\n",
       " \"Hazelnut syrup : Add a nutty flavor to your drinks with our hazelnut syrup, perfect for lattes and desserts. Its smooth sweetness enhances a variety of beverages, making it a must-have for coffee lovers. -- Ingredients: ['Sugar', 'Water', 'Hazelnut Extract', 'Vanilla Extract'] -- Price: 1.5 -- rating: 4.7\",\n",
       " \"Carmel syrup : Sweet and creamy, our caramel syrup is ideal for topping your drinks and desserts with a rich caramel flavor. This versatile syrup elevates everything from coffee to ice cream, providing a luscious touch. -- Ingredients: ['Sugar', 'Water', 'Cream', 'Butter', 'Vanilla Extract'] -- Price: 1.5 -- rating: 4.9\",\n",
       " \"Sugar Free Vanilla syrup : Enjoy the sweet flavor of vanilla without the sugar, making it perfect for your coffee or dessert. This syrup offers a guilt-free way to enhance your beverages, ensuring you never miss out on flavor. -- Ingredients: ['Water', 'Natural Flavors', 'Sucralose'] -- Price: 1.5 -- rating: 4.4\",\n",
       " \"Coffe shop about: Welcome to Perera and daughters Coffee, your neighborhood coffee shop located in colombo, SriLanka. At Templer's road, we believe that coffee is more than just a drinkâ€”itâ€™s an experience, a moment of joy, and a way to connect with others.\\n\\nOur Story\\nFounded in 2020, Perera and daughters started as a small family-owned cafÃ© with one mission: to share the love of quality, ethically-sourced coffee with our community.\\n\\nPerera's passion for travel and coffee led her on a journey across Nuwara eliya, where she handpicked partnerships with small farms and cooperatives. We ensure that every cup we brew tells a story of dedication and care, from farm to table. Our beans are roasted in-house to bring out unique flavors that reflect the regions where they were grown.\\n\\nDelivery & Locations Served\\nIn addition to offering a cozy place to enjoy coffee in our cafÃ©, we proudly deliver to Greenwich Village, SoHo, West Village, and Lower Manhattan. Whether youâ€™re at home, in the office, or enjoying a day at Washington Square Park, we bring your favorite coffee right to your door. Just a click away, our delivery service ensures that you never miss your daily cup, no matter where you are.\\n\\nOur Menu\\nOur menu offers something for everyone, from our signature espresso blends to refreshing cold brews, artisanal teas, and fresh-baked goods sourced from local bakeries. We also cater to a variety of dietary needs with a range of plant-based milk options and gluten-free snacks.\\n\\nCommunity & Sustainability\\n we are more than just coffee. We are part of the community, and we care deeply about sustainability. We use eco-friendly packaging, work with local farmers, and strive to minimize our carbon footprint. Our cafÃ© regularly hosts events, such as live music nights, art showcases, and community fundraisers, making it a hub for creativity and connection.\\n\\nWorking Hours\\nWe're open every day to make sure you can get your coffee whenever you need it:\\n\\nMonday to Friday: 7 AM â€“ 8 PM\\nSaturday: 8 AM â€“ 8 PM\\nSunday: 8 AM â€“ 6 PM\\nWhether youâ€™re grabbing a coffee on the go or staying to enjoy the warm, inviting atmosphere of our cafÃ©, Merryâ€™s Way is your destination for coffee done right.\\n\\nStop by today or order onlineâ€”we canâ€™t wait to serve you!\"]"
      ]
     },
     "execution_count": 21,
     "metadata": {},
     "output_type": "execute_result"
    }
   ],
   "source": [
    "texts"
   ]
  },
  {
   "cell_type": "code",
   "execution_count": 22,
   "metadata": {},
   "outputs": [],
   "source": [
    "output_embeddings=[get_embedding(model_name,model_kwargs,encode_kwargs,x) for x in texts]"
   ]
  },
  {
   "cell_type": "code",
   "execution_count": 23,
   "metadata": {},
   "outputs": [],
   "source": [
    "index_name = \"coffeeshop\"\n",
    "\n",
    "pc.create_index(\n",
    "    name=index_name,\n",
    "    dimension=384, # Replace with your model dimensions\n",
    "    metric=\"cosine\", # Replace with your model metric\n",
    "    spec=ServerlessSpec(\n",
    "        cloud=\"aws\",\n",
    "        region=\"us-east-1\"\n",
    "    ) \n",
    ")"
   ]
  },
  {
   "cell_type": "code",
   "execution_count": 24,
   "metadata": {},
   "outputs": [
    {
     "data": {
      "text/plain": [
       "{'upserted_count': 19}"
      ]
     },
     "execution_count": 24,
     "metadata": {},
     "output_type": "execute_result"
    }
   ],
   "source": [
    "from time import time\n",
    "# Wait for the index to be ready\n",
    "while not pc.describe_index(index_name).status['ready']:\n",
    "    time.sleep(1)\n",
    "\n",
    "index=pc.Index(index_name)\n",
    "\n",
    "vectors=[]\n",
    "\"\"\" \n",
    "id-capachino,values-embedding,metadata-text\n",
    "\n",
    "\"\"\"\n",
    "\n",
    "for text,e in zip(texts,output_embeddings):\n",
    "    entry=text.split(\":\")[0]\n",
    "    vectors.append(\n",
    "        {\n",
    "        \"id\":entry,\n",
    "        \"values\":e,\n",
    "        \"metadata\":{'text':text}}\n",
    "    )\n",
    "\n",
    "\n",
    "\n",
    "\n",
    "\n",
    "index.upsert(\n",
    "    vectors=vectors,\n",
    "    namespace=\"ns1\"\n",
    ")\n"
   ]
  },
  {
   "cell_type": "markdown",
   "metadata": {},
   "source": [
    "# Get Closest documents"
   ]
  },
  {
   "cell_type": "code",
   "execution_count": 28,
   "metadata": {},
   "outputs": [],
   "source": [
    "client=get_embedding(model_name,model_kwargs,encode_kwargs,\"what is the shop name?\")"
   ]
  },
  {
   "cell_type": "code",
   "execution_count": 30,
   "metadata": {},
   "outputs": [],
   "source": [
    "results=index.query(\n",
    "    namespace=\"ns1\",\n",
    "    vector=client,\n",
    "    top_k=3,\n",
    "    include_metadata=True,\n",
    "    include_values=False\n",
    "    \n",
    "    \n",
    ")"
   ]
  },
  {
   "cell_type": "code",
   "execution_count": 31,
   "metadata": {},
   "outputs": [
    {
     "data": {
      "text/plain": [
       "{'matches': [{'id': 'Coffe shop about',\n",
       "              'metadata': {'text': 'Coffe shop about: Welcome to Perera and '\n",
       "                                   'daughters Coffee, your neighborhood coffee '\n",
       "                                   'shop located in colombo, SriLanka. At '\n",
       "                                   \"Templer's road, we believe that coffee is \"\n",
       "                                   'more than just a drinkâ€”itâ€™s an '\n",
       "                                   'experience, a moment of joy, and a way to '\n",
       "                                   'connect with others.\\n'\n",
       "                                   '\\n'\n",
       "                                   'Our Story\\n'\n",
       "                                   'Founded in 2020, Perera and daughters '\n",
       "                                   'started as a small family-owned cafÃ© with '\n",
       "                                   'one mission: to share the love of quality, '\n",
       "                                   'ethically-sourced coffee with our '\n",
       "                                   'community.\\n'\n",
       "                                   '\\n'\n",
       "                                   \"Perera's passion for travel and coffee led \"\n",
       "                                   'her on a journey across Nuwara eliya, '\n",
       "                                   'where she handpicked partnerships with '\n",
       "                                   'small farms and cooperatives. We ensure '\n",
       "                                   'that every cup we brew tells a story of '\n",
       "                                   'dedication and care, from farm to table. '\n",
       "                                   'Our beans are roasted in-house to bring '\n",
       "                                   'out unique flavors that reflect the '\n",
       "                                   'regions where they were grown.\\n'\n",
       "                                   '\\n'\n",
       "                                   'Delivery & Locations Served\\n'\n",
       "                                   'In addition to offering a cozy place to '\n",
       "                                   'enjoy coffee in our cafÃ©, we proudly '\n",
       "                                   'deliver to Greenwich Village, SoHo, West '\n",
       "                                   'Village, and Lower Manhattan. Whether '\n",
       "                                   'youâ€™re at home, in the office, or '\n",
       "                                   'enjoying a day at Washington Square Park, '\n",
       "                                   'we bring your favorite coffee right to '\n",
       "                                   'your door. Just a click away, our delivery '\n",
       "                                   'service ensures that you never miss your '\n",
       "                                   'daily cup, no matter where you are.\\n'\n",
       "                                   '\\n'\n",
       "                                   'Our Menu\\n'\n",
       "                                   'Our menu offers something for everyone, '\n",
       "                                   'from our signature espresso blends to '\n",
       "                                   'refreshing cold brews, artisanal teas, and '\n",
       "                                   'fresh-baked goods sourced from local '\n",
       "                                   'bakeries. We also cater to a variety of '\n",
       "                                   'dietary needs with a range of plant-based '\n",
       "                                   'milk options and gluten-free snacks.\\n'\n",
       "                                   '\\n'\n",
       "                                   'Community & Sustainability\\n'\n",
       "                                   ' we are more than just coffee. We are part '\n",
       "                                   'of the community, and we care deeply about '\n",
       "                                   'sustainability. We use eco-friendly '\n",
       "                                   'packaging, work with local farmers, and '\n",
       "                                   'strive to minimize our carbon footprint. '\n",
       "                                   'Our cafÃ© regularly hosts events, such as '\n",
       "                                   'live music nights, art showcases, and '\n",
       "                                   'community fundraisers, making it a hub for '\n",
       "                                   'creativity and connection.\\n'\n",
       "                                   '\\n'\n",
       "                                   'Working Hours\\n'\n",
       "                                   \"We're open every day to make sure you can \"\n",
       "                                   'get your coffee whenever you need it:\\n'\n",
       "                                   '\\n'\n",
       "                                   'Monday to Friday: 7 AM â€“ 8 PM\\n'\n",
       "                                   'Saturday: 8 AM â€“ 8 PM\\n'\n",
       "                                   'Sunday: 8 AM â€“ 6 PM\\n'\n",
       "                                   'Whether youâ€™re grabbing a coffee on the '\n",
       "                                   'go or staying to enjoy the warm, inviting '\n",
       "                                   'atmosphere of our cafÃ©, Merryâ€™s Way is '\n",
       "                                   'your destination for coffee done right.\\n'\n",
       "                                   '\\n'\n",
       "                                   'Stop by today or order onlineâ€”we canâ€™t '\n",
       "                                   'wait to serve you!'},\n",
       "              'score': 0.800836861,\n",
       "              'values': []},\n",
       "             {'id': 'Almond Croissant ',\n",
       "              'metadata': {'text': 'Almond Croissant : A delightful twist on '\n",
       "                                   'the classic croissant, filled with almond '\n",
       "                                   'cream and topped with slivered almonds for '\n",
       "                                   'added crunch. This indulgent treat is '\n",
       "                                   'perfect for those who love a sweet and '\n",
       "                                   'nutty flavor combination. -- Ingredients: '\n",
       "                                   \"['Flour', 'Butter', 'Almond Cream', \"\n",
       "                                   \"'Sugar', 'Almonds', 'Yeast'] -- Price: 4.0 \"\n",
       "                                   '-- rating: 4.8'},\n",
       "              'score': 0.761957467,\n",
       "              'values': []},\n",
       "             {'id': 'Croissant ',\n",
       "              'metadata': {'text': 'Croissant : Our classic croissant is flaky '\n",
       "                                   'and buttery, offering a delightful crunch '\n",
       "                                   'with each bite. Whether enjoyed alone or '\n",
       "                                   \"filled with your favorite spread, it's a \"\n",
       "                                   'timeless pastry that elevates any meal. -- '\n",
       "                                   \"Ingredients: ['Flour', 'Butter', 'Yeast', \"\n",
       "                                   \"'Sugar', 'Salt'] -- Price: 3.25 -- rating: \"\n",
       "                                   '4.7'},\n",
       "              'score': 0.760370255,\n",
       "              'values': []}],\n",
       " 'namespace': 'ns1',\n",
       " 'usage': {'read_units': 6}}"
      ]
     },
     "execution_count": 31,
     "metadata": {},
     "output_type": "execute_result"
    }
   ],
   "source": [
    "results"
   ]
  },
  {
   "cell_type": "code",
   "execution_count": null,
   "metadata": {},
   "outputs": [],
   "source": []
  }
 ],
 "metadata": {
  "kernelspec": {
   "display_name": "Python 3",
   "language": "python",
   "name": "python3"
  },
  "language_info": {
   "codemirror_mode": {
    "name": "ipython",
    "version": 3
   },
   "file_extension": ".py",
   "mimetype": "text/x-python",
   "name": "python",
   "nbconvert_exporter": "python",
   "pygments_lexer": "ipython3",
   "version": "3.10.11"
  }
 },
 "nbformat": 4,
 "nbformat_minor": 2
}
